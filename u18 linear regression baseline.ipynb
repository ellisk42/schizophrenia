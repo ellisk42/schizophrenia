{
 "cells": [
  {
   "cell_type": "code",
   "execution_count": 1,
   "id": "92f77d69",
   "metadata": {},
   "outputs": [],
   "source": [
    "import pandas as pd\n",
    "import os\n",
    "%matplotlib inline\n",
    "import matplotlib.pyplot as plt\n",
    "import numpy as np\n",
    "import datetime\n",
    "from datetime import timedelta\n",
    "from scipy.stats import pearsonr\n",
    "from sklearn.manifold import TSNE\n",
    "from sklearn.ensemble import GradientBoostingRegressor\n",
    "from sklearn.model_selection import LeavePGroupsOut\n",
    "from sklearn.metrics import mean_squared_error, r2_score\n",
    "from sklearn import metrics\n",
    "import seaborn as sns\n",
    "from StudentLife import get_data\n"
   ]
  },
  {
   "cell_type": "code",
   "execution_count": 2,
   "id": "2af36226",
   "metadata": {},
   "outputs": [],
   "source": [
    "u21 = pd.read_csv('u018_all_data.csv')"
   ]
  },
  {
   "cell_type": "code",
   "execution_count": 3,
   "id": "69270d49",
   "metadata": {},
   "outputs": [],
   "source": [
    "if 'Unnamed: 0' in u21.columns:\n",
    "    u21 = u21.drop(['Unnamed: 0'], axis=1)\n",
    "\n",
    "u21 = u21.dropna(subset=['prev_ema_score'])"
   ]
  },
  {
   "cell_type": "code",
   "execution_count": 4,
   "id": "f83ffa39",
   "metadata": {},
   "outputs": [
    {
     "data": {
      "text/plain": [
       "(80, 119)"
      ]
     },
     "execution_count": 4,
     "metadata": {},
     "output_type": "execute_result"
    }
   ],
   "source": [
    "u21.shape"
   ]
  },
  {
   "cell_type": "code",
   "execution_count": 5,
   "id": "c6a6352c",
   "metadata": {
    "scrolled": true
   },
   "outputs": [
    {
     "data": {
      "text/html": [
       "<div>\n",
       "<style scoped>\n",
       "    .dataframe tbody tr th:only-of-type {\n",
       "        vertical-align: middle;\n",
       "    }\n",
       "\n",
       "    .dataframe tbody tr th {\n",
       "        vertical-align: top;\n",
       "    }\n",
       "\n",
       "    .dataframe thead th {\n",
       "        text-align: right;\n",
       "    }\n",
       "</style>\n",
       "<table border=\"1\" class=\"dataframe\">\n",
       "  <thead>\n",
       "    <tr style=\"text-align: right;\">\n",
       "      <th></th>\n",
       "      <th>day</th>\n",
       "      <th>eureka_id</th>\n",
       "      <th>ema_CALM</th>\n",
       "      <th>ema_DEPRESSED</th>\n",
       "      <th>ema_HARM</th>\n",
       "      <th>ema_HOPEFUL</th>\n",
       "      <th>ema_SEEING_THINGS</th>\n",
       "      <th>ema_SLEEPING</th>\n",
       "      <th>ema_SOCIAL</th>\n",
       "      <th>ema_STRESSED</th>\n",
       "      <th>...</th>\n",
       "      <th>audio_silence_avg</th>\n",
       "      <th>audio_silence_std</th>\n",
       "      <th>audio_silence_num_good_days</th>\n",
       "      <th>audio_voice_med_mean</th>\n",
       "      <th>audio_voice_med_mean_normal</th>\n",
       "      <th>audio_voice_med_mean_raw</th>\n",
       "      <th>audio_voice_avg</th>\n",
       "      <th>audio_voice_std</th>\n",
       "      <th>audio_voice_num_good_days</th>\n",
       "      <th>prev_ema_score</th>\n",
       "    </tr>\n",
       "  </thead>\n",
       "  <tbody>\n",
       "    <tr>\n",
       "      <th>0</th>\n",
       "      <td>2015-05-13</td>\n",
       "      <td>u018</td>\n",
       "      <td>3.0</td>\n",
       "      <td>0.0</td>\n",
       "      <td>0.0</td>\n",
       "      <td>3.0</td>\n",
       "      <td>0.0</td>\n",
       "      <td>3.0</td>\n",
       "      <td>3.0</td>\n",
       "      <td>0.0</td>\n",
       "      <td>...</td>\n",
       "      <td>65541.454545</td>\n",
       "      <td>5535.544641</td>\n",
       "      <td>11.0</td>\n",
       "      <td>1205.289583</td>\n",
       "      <td>0.919719</td>\n",
       "      <td>6.476389</td>\n",
       "      <td>5925.181818</td>\n",
       "      <td>2550.754783</td>\n",
       "      <td>11.0</td>\n",
       "      <td>-12.0</td>\n",
       "    </tr>\n",
       "    <tr>\n",
       "      <th>1</th>\n",
       "      <td>2015-05-15</td>\n",
       "      <td>u018</td>\n",
       "      <td>3.0</td>\n",
       "      <td>0.0</td>\n",
       "      <td>0.0</td>\n",
       "      <td>3.0</td>\n",
       "      <td>1.0</td>\n",
       "      <td>3.0</td>\n",
       "      <td>3.0</td>\n",
       "      <td>0.0</td>\n",
       "      <td>...</td>\n",
       "      <td>65095.583333</td>\n",
       "      <td>4945.627940</td>\n",
       "      <td>12.0</td>\n",
       "      <td>1119.153472</td>\n",
       "      <td>0.921820</td>\n",
       "      <td>7.504167</td>\n",
       "      <td>6560.166667</td>\n",
       "      <td>2354.743987</td>\n",
       "      <td>12.0</td>\n",
       "      <td>-15.0</td>\n",
       "    </tr>\n",
       "    <tr>\n",
       "      <th>2</th>\n",
       "      <td>2015-05-18</td>\n",
       "      <td>u018</td>\n",
       "      <td>3.0</td>\n",
       "      <td>0.0</td>\n",
       "      <td>0.0</td>\n",
       "      <td>3.0</td>\n",
       "      <td>0.0</td>\n",
       "      <td>3.0</td>\n",
       "      <td>3.0</td>\n",
       "      <td>0.0</td>\n",
       "      <td>...</td>\n",
       "      <td>63380.071429</td>\n",
       "      <td>5675.216708</td>\n",
       "      <td>14.0</td>\n",
       "      <td>1372.259028</td>\n",
       "      <td>0.921810</td>\n",
       "      <td>7.975694</td>\n",
       "      <td>7813.928571</td>\n",
       "      <td>4462.029608</td>\n",
       "      <td>14.0</td>\n",
       "      <td>-15.0</td>\n",
       "    </tr>\n",
       "    <tr>\n",
       "      <th>3</th>\n",
       "      <td>2015-05-20</td>\n",
       "      <td>u018</td>\n",
       "      <td>3.0</td>\n",
       "      <td>0.0</td>\n",
       "      <td>0.0</td>\n",
       "      <td>3.0</td>\n",
       "      <td>0.0</td>\n",
       "      <td>3.0</td>\n",
       "      <td>3.0</td>\n",
       "      <td>0.0</td>\n",
       "      <td>...</td>\n",
       "      <td>62759.071429</td>\n",
       "      <td>4711.130266</td>\n",
       "      <td>14.0</td>\n",
       "      <td>1322.883333</td>\n",
       "      <td>0.925036</td>\n",
       "      <td>8.063889</td>\n",
       "      <td>8197.428571</td>\n",
       "      <td>4131.779552</td>\n",
       "      <td>14.0</td>\n",
       "      <td>-15.0</td>\n",
       "    </tr>\n",
       "    <tr>\n",
       "      <th>4</th>\n",
       "      <td>2015-05-22</td>\n",
       "      <td>u018</td>\n",
       "      <td>3.0</td>\n",
       "      <td>0.0</td>\n",
       "      <td>0.0</td>\n",
       "      <td>3.0</td>\n",
       "      <td>0.0</td>\n",
       "      <td>3.0</td>\n",
       "      <td>3.0</td>\n",
       "      <td>0.0</td>\n",
       "      <td>...</td>\n",
       "      <td>63593.642857</td>\n",
       "      <td>4660.396131</td>\n",
       "      <td>14.0</td>\n",
       "      <td>1322.883333</td>\n",
       "      <td>0.920146</td>\n",
       "      <td>8.441667</td>\n",
       "      <td>8738.571429</td>\n",
       "      <td>3985.743010</td>\n",
       "      <td>14.0</td>\n",
       "      <td>-14.0</td>\n",
       "    </tr>\n",
       "    <tr>\n",
       "      <th>...</th>\n",
       "      <td>...</td>\n",
       "      <td>...</td>\n",
       "      <td>...</td>\n",
       "      <td>...</td>\n",
       "      <td>...</td>\n",
       "      <td>...</td>\n",
       "      <td>...</td>\n",
       "      <td>...</td>\n",
       "      <td>...</td>\n",
       "      <td>...</td>\n",
       "      <td>...</td>\n",
       "      <td>...</td>\n",
       "      <td>...</td>\n",
       "      <td>...</td>\n",
       "      <td>...</td>\n",
       "      <td>...</td>\n",
       "      <td>...</td>\n",
       "      <td>...</td>\n",
       "      <td>...</td>\n",
       "      <td>...</td>\n",
       "      <td>...</td>\n",
       "    </tr>\n",
       "    <tr>\n",
       "      <th>75</th>\n",
       "      <td>2016-04-15</td>\n",
       "      <td>u018</td>\n",
       "      <td>3.0</td>\n",
       "      <td>0.0</td>\n",
       "      <td>0.0</td>\n",
       "      <td>3.0</td>\n",
       "      <td>0.0</td>\n",
       "      <td>3.0</td>\n",
       "      <td>3.0</td>\n",
       "      <td>0.0</td>\n",
       "      <td>...</td>\n",
       "      <td>63475.000000</td>\n",
       "      <td>6526.878085</td>\n",
       "      <td>14.0</td>\n",
       "      <td>2222.832639</td>\n",
       "      <td>0.827623</td>\n",
       "      <td>9.811806</td>\n",
       "      <td>9270.428571</td>\n",
       "      <td>3668.667788</td>\n",
       "      <td>14.0</td>\n",
       "      <td>-15.0</td>\n",
       "    </tr>\n",
       "    <tr>\n",
       "      <th>76</th>\n",
       "      <td>2016-04-18</td>\n",
       "      <td>u018</td>\n",
       "      <td>3.0</td>\n",
       "      <td>0.0</td>\n",
       "      <td>0.0</td>\n",
       "      <td>3.0</td>\n",
       "      <td>1.0</td>\n",
       "      <td>3.0</td>\n",
       "      <td>3.0</td>\n",
       "      <td>1.0</td>\n",
       "      <td>...</td>\n",
       "      <td>63595.142857</td>\n",
       "      <td>7936.746823</td>\n",
       "      <td>14.0</td>\n",
       "      <td>2222.832639</td>\n",
       "      <td>0.835714</td>\n",
       "      <td>9.081944</td>\n",
       "      <td>8399.714286</td>\n",
       "      <td>4638.250805</td>\n",
       "      <td>14.0</td>\n",
       "      <td>-14.0</td>\n",
       "    </tr>\n",
       "    <tr>\n",
       "      <th>77</th>\n",
       "      <td>2016-04-20</td>\n",
       "      <td>u018</td>\n",
       "      <td>3.0</td>\n",
       "      <td>3.0</td>\n",
       "      <td>0.0</td>\n",
       "      <td>3.0</td>\n",
       "      <td>0.0</td>\n",
       "      <td>3.0</td>\n",
       "      <td>3.0</td>\n",
       "      <td>0.0</td>\n",
       "      <td>...</td>\n",
       "      <td>64978.857143</td>\n",
       "      <td>6738.535744</td>\n",
       "      <td>14.0</td>\n",
       "      <td>2134.607639</td>\n",
       "      <td>0.848851</td>\n",
       "      <td>8.204861</td>\n",
       "      <td>7465.642857</td>\n",
       "      <td>3994.010836</td>\n",
       "      <td>14.0</td>\n",
       "      <td>-15.0</td>\n",
       "    </tr>\n",
       "    <tr>\n",
       "      <th>78</th>\n",
       "      <td>2016-04-22</td>\n",
       "      <td>u018</td>\n",
       "      <td>3.0</td>\n",
       "      <td>0.0</td>\n",
       "      <td>0.0</td>\n",
       "      <td>3.0</td>\n",
       "      <td>0.0</td>\n",
       "      <td>3.0</td>\n",
       "      <td>3.0</td>\n",
       "      <td>0.0</td>\n",
       "      <td>...</td>\n",
       "      <td>65122.923077</td>\n",
       "      <td>6896.681466</td>\n",
       "      <td>13.0</td>\n",
       "      <td>2189.517708</td>\n",
       "      <td>0.843434</td>\n",
       "      <td>8.505556</td>\n",
       "      <td>7577.000000</td>\n",
       "      <td>4148.023947</td>\n",
       "      <td>13.0</td>\n",
       "      <td>-15.0</td>\n",
       "    </tr>\n",
       "    <tr>\n",
       "      <th>79</th>\n",
       "      <td>2016-04-25</td>\n",
       "      <td>u018</td>\n",
       "      <td>3.0</td>\n",
       "      <td>3.0</td>\n",
       "      <td>0.0</td>\n",
       "      <td>3.0</td>\n",
       "      <td>0.0</td>\n",
       "      <td>3.0</td>\n",
       "      <td>3.0</td>\n",
       "      <td>0.0</td>\n",
       "      <td>...</td>\n",
       "      <td>62936.000000</td>\n",
       "      <td>7245.096664</td>\n",
       "      <td>13.0</td>\n",
       "      <td>2122.250347</td>\n",
       "      <td>0.775906</td>\n",
       "      <td>8.504514</td>\n",
       "      <td>7406.153846</td>\n",
       "      <td>3888.814019</td>\n",
       "      <td>13.0</td>\n",
       "      <td>-13.0</td>\n",
       "    </tr>\n",
       "  </tbody>\n",
       "</table>\n",
       "<p>80 rows × 119 columns</p>\n",
       "</div>"
      ],
      "text/plain": [
       "           day eureka_id  ema_CALM  ema_DEPRESSED  ema_HARM  ema_HOPEFUL  \\\n",
       "0   2015-05-13      u018       3.0            0.0       0.0          3.0   \n",
       "1   2015-05-15      u018       3.0            0.0       0.0          3.0   \n",
       "2   2015-05-18      u018       3.0            0.0       0.0          3.0   \n",
       "3   2015-05-20      u018       3.0            0.0       0.0          3.0   \n",
       "4   2015-05-22      u018       3.0            0.0       0.0          3.0   \n",
       "..         ...       ...       ...            ...       ...          ...   \n",
       "75  2016-04-15      u018       3.0            0.0       0.0          3.0   \n",
       "76  2016-04-18      u018       3.0            0.0       0.0          3.0   \n",
       "77  2016-04-20      u018       3.0            3.0       0.0          3.0   \n",
       "78  2016-04-22      u018       3.0            0.0       0.0          3.0   \n",
       "79  2016-04-25      u018       3.0            3.0       0.0          3.0   \n",
       "\n",
       "    ema_SEEING_THINGS  ema_SLEEPING  ema_SOCIAL  ema_STRESSED  ...  \\\n",
       "0                 0.0           3.0         3.0           0.0  ...   \n",
       "1                 1.0           3.0         3.0           0.0  ...   \n",
       "2                 0.0           3.0         3.0           0.0  ...   \n",
       "3                 0.0           3.0         3.0           0.0  ...   \n",
       "4                 0.0           3.0         3.0           0.0  ...   \n",
       "..                ...           ...         ...           ...  ...   \n",
       "75                0.0           3.0         3.0           0.0  ...   \n",
       "76                1.0           3.0         3.0           1.0  ...   \n",
       "77                0.0           3.0         3.0           0.0  ...   \n",
       "78                0.0           3.0         3.0           0.0  ...   \n",
       "79                0.0           3.0         3.0           0.0  ...   \n",
       "\n",
       "    audio_silence_avg  audio_silence_std  audio_silence_num_good_days  \\\n",
       "0        65541.454545        5535.544641                         11.0   \n",
       "1        65095.583333        4945.627940                         12.0   \n",
       "2        63380.071429        5675.216708                         14.0   \n",
       "3        62759.071429        4711.130266                         14.0   \n",
       "4        63593.642857        4660.396131                         14.0   \n",
       "..                ...                ...                          ...   \n",
       "75       63475.000000        6526.878085                         14.0   \n",
       "76       63595.142857        7936.746823                         14.0   \n",
       "77       64978.857143        6738.535744                         14.0   \n",
       "78       65122.923077        6896.681466                         13.0   \n",
       "79       62936.000000        7245.096664                         13.0   \n",
       "\n",
       "    audio_voice_med_mean  audio_voice_med_mean_normal  \\\n",
       "0            1205.289583                     0.919719   \n",
       "1            1119.153472                     0.921820   \n",
       "2            1372.259028                     0.921810   \n",
       "3            1322.883333                     0.925036   \n",
       "4            1322.883333                     0.920146   \n",
       "..                   ...                          ...   \n",
       "75           2222.832639                     0.827623   \n",
       "76           2222.832639                     0.835714   \n",
       "77           2134.607639                     0.848851   \n",
       "78           2189.517708                     0.843434   \n",
       "79           2122.250347                     0.775906   \n",
       "\n",
       "    audio_voice_med_mean_raw  audio_voice_avg  audio_voice_std  \\\n",
       "0                   6.476389      5925.181818      2550.754783   \n",
       "1                   7.504167      6560.166667      2354.743987   \n",
       "2                   7.975694      7813.928571      4462.029608   \n",
       "3                   8.063889      8197.428571      4131.779552   \n",
       "4                   8.441667      8738.571429      3985.743010   \n",
       "..                       ...              ...              ...   \n",
       "75                  9.811806      9270.428571      3668.667788   \n",
       "76                  9.081944      8399.714286      4638.250805   \n",
       "77                  8.204861      7465.642857      3994.010836   \n",
       "78                  8.505556      7577.000000      4148.023947   \n",
       "79                  8.504514      7406.153846      3888.814019   \n",
       "\n",
       "    audio_voice_num_good_days  prev_ema_score  \n",
       "0                        11.0           -12.0  \n",
       "1                        12.0           -15.0  \n",
       "2                        14.0           -15.0  \n",
       "3                        14.0           -15.0  \n",
       "4                        14.0           -14.0  \n",
       "..                        ...             ...  \n",
       "75                       14.0           -15.0  \n",
       "76                       14.0           -14.0  \n",
       "77                       14.0           -15.0  \n",
       "78                       13.0           -15.0  \n",
       "79                       13.0           -13.0  \n",
       "\n",
       "[80 rows x 119 columns]"
      ]
     },
     "execution_count": 5,
     "metadata": {},
     "output_type": "execute_result"
    }
   ],
   "source": [
    "u21"
   ]
  },
  {
   "cell_type": "code",
   "execution_count": 6,
   "id": "d3e9f673",
   "metadata": {},
   "outputs": [
    {
     "name": "stdout",
     "output_type": "stream",
     "text": [
      "day\n",
      "eureka_id\n",
      "ema_CALM\n",
      "ema_DEPRESSED\n",
      "ema_HARM\n",
      "ema_HOPEFUL\n",
      "ema_SEEING_THINGS\n",
      "ema_SLEEPING\n",
      "ema_SOCIAL\n",
      "ema_STRESSED\n",
      "ema_THINK\n",
      "ema_VOICES\n",
      "ema_neg_score\n",
      "ema_pos_score\n",
      "ema_resp_time_median\n",
      "ema_score\n",
      "calllog_med_mean\n",
      "calllog_med_mean_normal\n",
      "calllog_med_mean_raw\n",
      "calllog_avg\n",
      "calllog_std\n",
      "calllog_num_good_days\n",
      "sms_in_med_mean\n",
      "sms_in_med_mean_normal\n",
      "sms_in_med_mean_raw\n",
      "sms_in_avg\n",
      "sms_in_std\n",
      "sms_in_num_good_days\n",
      "sms_out_med_mean\n",
      "sms_out_med_mean_normal\n",
      "sms_out_med_mean_raw\n",
      "sms_out_avg\n",
      "sms_out_std\n",
      "sms_out_num_good_days\n",
      "unlock_med_mean\n",
      "unlock_med_mean_normal\n",
      "unlock_med_mean_raw\n",
      "unlock_avg\n",
      "unlock_std\n",
      "unlock_num_good_days\n",
      "conver_med_mean\n",
      "conver_med_mean_normal\n",
      "conver_med_mean_raw\n",
      "conver_avg\n",
      "conver_std\n",
      "conver_num_good_days\n",
      "sleep_med_mean\n",
      "sleep_med_mean_normal\n",
      "sleep_med_mean_raw\n",
      "sleep_avg\n",
      "sleep_std\n",
      "sleep_num_good_days\n",
      "act_invehicle_med_mean\n",
      "act_invehicle_med_mean_normal\n",
      "act_invehicle_med_mean_raw\n",
      "act_invehicle_avg\n",
      "act_invehicle_std\n",
      "act_invehicle_num_good_days\n",
      "act_onbike_med_mean\n",
      "act_onbike_med_mean_normal\n",
      "act_onbike_med_mean_raw\n",
      "act_onbike_avg\n",
      "act_onbike_std\n",
      "act_onbike_num_good_days\n",
      "act_onfoot_med_mean\n",
      "act_onfoot_med_mean_normal\n",
      "act_onfoot_med_mean_raw\n",
      "act_onfoot_avg\n",
      "act_onfoot_std\n",
      "act_onfoot_num_good_days\n",
      "act_still_med_mean\n",
      "act_still_med_mean_normal\n",
      "act_still_med_mean_raw\n",
      "act_still_avg\n",
      "act_still_std\n",
      "act_still_num_good_days\n",
      "act_tilting_med_mean\n",
      "act_tilting_med_mean_normal\n",
      "act_tilting_med_mean_raw\n",
      "act_tilting_avg\n",
      "act_tilting_std\n",
      "act_tilting_num_good_days\n",
      "act_unknown_med_mean\n",
      "act_unknown_med_mean_normal\n",
      "act_unknown_med_mean_raw\n",
      "act_unknown_avg\n",
      "act_unknown_std\n",
      "act_unknown_num_good_days\n",
      "light_med_mean\n",
      "light_med_mean_normal\n",
      "light_med_mean_raw\n",
      "light_avg\n",
      "light_std\n",
      "light_num_good_days\n",
      "audio_amp_med_mean\n",
      "audio_amp_med_mean_normal\n",
      "audio_amp_med_mean_raw\n",
      "audio_amp_avg\n",
      "audio_amp_std\n",
      "audio_amp_num_good_days\n",
      "audio_noise_med_mean\n",
      "audio_noise_med_mean_normal\n",
      "audio_noise_med_mean_raw\n",
      "audio_noise_avg\n",
      "audio_noise_std\n",
      "audio_noise_num_good_days\n",
      "audio_silence_med_mean\n",
      "audio_silence_med_mean_normal\n",
      "audio_silence_med_mean_raw\n",
      "audio_silence_avg\n",
      "audio_silence_std\n",
      "audio_silence_num_good_days\n",
      "audio_voice_med_mean\n",
      "audio_voice_med_mean_normal\n",
      "audio_voice_med_mean_raw\n",
      "audio_voice_avg\n",
      "audio_voice_std\n",
      "audio_voice_num_good_days\n",
      "prev_ema_score\n"
     ]
    }
   ],
   "source": [
    "for item in u21.columns:\n",
    "    print(item)"
   ]
  },
  {
   "cell_type": "code",
   "execution_count": 7,
   "id": "98e323c9",
   "metadata": {},
   "outputs": [
    {
     "data": {
      "text/plain": [
       "0     0.866727\n",
       "1     0.863663\n",
       "2     0.871025\n",
       "3     0.883435\n",
       "4     0.888580\n",
       "        ...   \n",
       "75    0.836236\n",
       "76    0.847767\n",
       "77    0.849285\n",
       "78    0.866589\n",
       "79    0.871357\n",
       "Name: calllog_med_mean_normal, Length: 80, dtype: float64"
      ]
     },
     "execution_count": 7,
     "metadata": {},
     "output_type": "execute_result"
    }
   ],
   "source": [
    "u21['calllog_med_mean_normal']"
   ]
  },
  {
   "cell_type": "code",
   "execution_count": 8,
   "id": "bf6b6575",
   "metadata": {},
   "outputs": [],
   "source": [
    "import pandas as pd\n",
    "from sklearn.model_selection import GridSearchCV\n",
    "from sklearn.metrics import mean_squared_error, mean_absolute_error, r2_score\n",
    "from sklearn.preprocessing import StandardScaler"
   ]
  },
  {
   "cell_type": "code",
   "execution_count": 10,
   "id": "1e89090f",
   "metadata": {},
   "outputs": [],
   "source": [
    "EMA_ITEM = 'ema_score'"
   ]
  },
  {
   "cell_type": "code",
   "execution_count": 11,
   "id": "0ddd253b",
   "metadata": {},
   "outputs": [],
   "source": [
    "X = u21\n",
    "y = u21[EMA_ITEM]"
   ]
  },
  {
   "cell_type": "code",
   "execution_count": 12,
   "id": "b3e55d2c",
   "metadata": {},
   "outputs": [],
   "source": [
    "ema = X"
   ]
  },
  {
   "cell_type": "code",
   "execution_count": 13,
   "id": "aeed6715",
   "metadata": {},
   "outputs": [
    {
     "name": "stdout",
     "output_type": "stream",
     "text": [
      "length of baseline should be 34: 34\n",
      "length of just_diff_normal should be 17: 17\n",
      "length of baseline_diff_normal should be 51: 51\n"
     ]
    }
   ],
   "source": [
    "baseline = [c for c in ema.columns if 'avg' in c or 'std' in c]\n",
    "just_diff = [c for c in ema.columns if 'med_mean' in c and 'raw' not in c]\n",
    "just_diff_absolute = [c for c in ema.columns if 'med_mean' in c and 'normal' not in c and 'raw' not in c]\n",
    "just_diff_normal = [c for c in ema.columns if 'med_mean_normal' in c]\n",
    "raw_fea = [c for c in ema.columns if 'raw' in c]\n",
    "all_fea = just_diff + baseline \n",
    "prev_ema = [c for c in ema.columns if ('prev_' + EMA_ITEM) in c]\n",
    "all_fea_prev_ema = all_fea + prev_ema\n",
    "baseline_diff_absolute = baseline + just_diff_absolute\n",
    "baseline_diff_normal = baseline + just_diff_normal\n",
    "baseline_diff_raw = baseline + raw_fea\n",
    "all_fea_raw = all_fea + raw_fea\n",
    "print('length of baseline should be 34:', len(baseline))\n",
    "print('length of just_diff_normal should be 17:', len(just_diff_normal))\n",
    "print('length of baseline_diff_normal should be 51:', len(baseline_diff_normal))\n",
    "\n",
    "\n",
    "feature_sets = [\n",
    "    prev_ema,\n",
    "    prev_ema,\n",
    "    baseline,\n",
    "    just_diff_normal,\n",
    "    baseline_diff_normal,\n",
    "]\n",
    "feature_sets_names = [\n",
    "    'prev_ema',\n",
    "    'mean_predictor',\n",
    "    'baseline_mean_std',\n",
    "    'just_diff_normal',\n",
    "    'baseline_diff_normal',\n",
    "]"
   ]
  },
  {
   "cell_type": "code",
   "execution_count": 14,
   "id": "5c3a52ac",
   "metadata": {},
   "outputs": [],
   "source": [
    "selected_fea = baseline"
   ]
  },
  {
   "cell_type": "code",
   "execution_count": 15,
   "id": "4c0d77ae",
   "metadata": {},
   "outputs": [],
   "source": [
    "X = X[baseline]"
   ]
  },
  {
   "cell_type": "code",
   "execution_count": 16,
   "id": "26d47c70",
   "metadata": {},
   "outputs": [
    {
     "data": {
      "text/plain": [
       "0    -15.0\n",
       "1    -14.0\n",
       "2    -15.0\n",
       "3    -15.0\n",
       "4    -15.0\n",
       "      ... \n",
       "75   -15.0\n",
       "76   -13.0\n",
       "77   -12.0\n",
       "78   -15.0\n",
       "79   -12.0\n",
       "Name: ema_score, Length: 80, dtype: float64"
      ]
     },
     "execution_count": 16,
     "metadata": {},
     "output_type": "execute_result"
    }
   ],
   "source": [
    "y"
   ]
  },
  {
   "cell_type": "code",
   "execution_count": 17,
   "id": "a8ca1daf",
   "metadata": {},
   "outputs": [],
   "source": [
    "from sklearn.model_selection import train_test_split\n",
    "X_train, X_test, y_train, y_test = train_test_split(X, y, test_size = 1/3, random_state = 0, shuffle=False)"
   ]
  },
  {
   "cell_type": "code",
   "execution_count": 18,
   "id": "c35c359e",
   "metadata": {},
   "outputs": [],
   "source": [
    "from sklearn.preprocessing import StandardScaler\n",
    "\n",
    "scaler = StandardScaler()\n",
    "scaler.fit(X_train)\n",
    "\n",
    "X_train = scaler.transform(X_train)\n",
    "X_test = scaler.transform(X_test)"
   ]
  },
  {
   "cell_type": "code",
   "execution_count": 19,
   "id": "19ebe85d",
   "metadata": {},
   "outputs": [
    {
     "data": {
      "text/plain": [
       "(53, 34)"
      ]
     },
     "execution_count": 19,
     "metadata": {},
     "output_type": "execute_result"
    }
   ],
   "source": [
    "X_train.shape"
   ]
  },
  {
   "cell_type": "code",
   "execution_count": 20,
   "id": "d01e7228",
   "metadata": {},
   "outputs": [
    {
     "data": {
      "text/plain": [
       "(27, 34)"
      ]
     },
     "execution_count": 20,
     "metadata": {},
     "output_type": "execute_result"
    }
   ],
   "source": [
    "X_test.shape"
   ]
  },
  {
   "cell_type": "code",
   "execution_count": 21,
   "id": "061a7fb6",
   "metadata": {},
   "outputs": [],
   "source": [
    "# from sklearn.linear_model import LinearRegression\n",
    "# regressor = LinearRegression()\n",
    "# regressor.fit(X_train, y_train)"
   ]
  },
  {
   "cell_type": "code",
   "execution_count": 22,
   "id": "27b0480f",
   "metadata": {},
   "outputs": [],
   "source": [
    "# y_pred = regressor.predict(X_test)"
   ]
  },
  {
   "cell_type": "code",
   "execution_count": 23,
   "id": "ffb1e776",
   "metadata": {},
   "outputs": [],
   "source": [
    "from sklearn.metrics import mean_squared_error, mean_absolute_error, r2_score"
   ]
  },
  {
   "cell_type": "code",
   "execution_count": 24,
   "id": "034352c1",
   "metadata": {},
   "outputs": [],
   "source": [
    "from sklearn.linear_model import RidgeCV\n",
    "from sklearn.linear_model import LinearRegression\n",
    "# regressor = RidgeCV(alphas=[1e-3, 1e-2, 1e-1, 1]).fit(X_train, y_train)\n",
    "regressor = LinearRegression().fit(X_train, y_train)"
   ]
  },
  {
   "cell_type": "code",
   "execution_count": 25,
   "id": "efdd4394",
   "metadata": {},
   "outputs": [
    {
     "data": {
      "text/plain": [
       "array([ 1.21420196e+00, -9.46666984e-01, -4.69340117e+00,  4.95397720e+00,\n",
       "        2.78332695e+00, -3.76062271e+00,  2.68196783e+00,  5.91676770e-01,\n",
       "       -3.17462696e+00,  3.63442805e+00,  2.70352655e+00, -1.67680969e+00,\n",
       "        1.99377035e+13, -3.86790763e+00,  1.29938362e+12,  2.54827597e+00,\n",
       "        3.37076491e+13, -2.13554019e+00,  1.00612691e+14,  3.20708042e+00,\n",
       "        1.28999048e+13,  1.43461381e+00,  6.27256514e+13, -1.51633083e+00,\n",
       "        1.16095278e+00,  8.74728380e-01,  8.66010278e-01, -2.58315693e+00,\n",
       "       -2.03143700e+14, -1.26101041e+00, -2.57208913e+14,  4.67723362e+00,\n",
       "       -1.42946201e+14, -4.88712360e+00])"
      ]
     },
     "execution_count": 25,
     "metadata": {},
     "output_type": "execute_result"
    }
   ],
   "source": [
    "regressor.coef_"
   ]
  },
  {
   "cell_type": "code",
   "execution_count": 26,
   "id": "9855ef8f",
   "metadata": {},
   "outputs": [],
   "source": [
    "y_pred = regressor.predict(X_test)"
   ]
  },
  {
   "cell_type": "code",
   "execution_count": 27,
   "id": "38257b01",
   "metadata": {},
   "outputs": [],
   "source": [
    "y_pred_train = regressor.predict(X_train)"
   ]
  },
  {
   "cell_type": "code",
   "execution_count": 28,
   "id": "a8052100",
   "metadata": {},
   "outputs": [],
   "source": [
    "# df = pd.DataFrame({'Actual': y_test.values.flatten(), 'Predicted': y_pred.flatten()})\n",
    "# df"
   ]
  },
  {
   "cell_type": "code",
   "execution_count": 29,
   "id": "9841154a",
   "metadata": {},
   "outputs": [
    {
     "name": "stdout",
     "output_type": "stream",
     "text": [
      "Mean Squared Error test linear: 66.31017276658731\n"
     ]
    }
   ],
   "source": [
    "print('Mean Squared Error test linear:', metrics.mean_squared_error(y_test, y_pred))"
   ]
  },
  {
   "cell_type": "code",
   "execution_count": 30,
   "id": "cb3538d7",
   "metadata": {},
   "outputs": [
    {
     "name": "stdout",
     "output_type": "stream",
     "text": [
      "Mean Squared Error train linear: 4.607138728879668\n"
     ]
    }
   ],
   "source": [
    "print('Mean Squared Error train linear:', metrics.mean_squared_error(y_train, y_pred_train))"
   ]
  },
  {
   "cell_type": "code",
   "execution_count": 196,
   "id": "c77bda8b",
   "metadata": {},
   "outputs": [],
   "source": [
    "#ridge"
   ]
  },
  {
   "cell_type": "code",
   "execution_count": 31,
   "id": "988f9908",
   "metadata": {},
   "outputs": [],
   "source": [
    "regressor = RidgeCV(alphas=[1e-3, 1e-2, 1e-1, 1]).fit(X_train, y_train)"
   ]
  },
  {
   "cell_type": "code",
   "execution_count": 32,
   "id": "e2e71894",
   "metadata": {},
   "outputs": [
    {
     "data": {
      "text/plain": [
       "array([-0.12835767,  0.2553306 , -0.45945317,  0.94015514, -1.07050012,\n",
       "       -0.04234891,  0.89271084,  0.45923582, -0.3422836 ,  1.14402779,\n",
       "        0.73978624, -0.35126222,  2.24502114, -1.3106162 , -0.91904703,\n",
       "        0.89783212, -1.1978381 ,  0.09851552,  0.31339418,  0.47187653,\n",
       "       -0.56086088, -0.24838152, -0.43820102, -0.17560459, -0.0744403 ,\n",
       "       -0.02119272,  0.52142963, -0.87417468, -0.43852446,  0.21225723,\n",
       "       -0.24193944,  0.48532608,  1.05852734, -0.41838307])"
      ]
     },
     "execution_count": 32,
     "metadata": {},
     "output_type": "execute_result"
    }
   ],
   "source": [
    "regressor.coef_"
   ]
  },
  {
   "cell_type": "code",
   "execution_count": 33,
   "id": "f281f017",
   "metadata": {},
   "outputs": [],
   "source": [
    "y_pred = regressor.predict(X_test)\n",
    "y_pred_train = regressor.predict(X_train)"
   ]
  },
  {
   "cell_type": "code",
   "execution_count": 34,
   "id": "8caf0c75",
   "metadata": {},
   "outputs": [],
   "source": [
    "# df = pd.DataFrame({'Actual': y_test.values.flatten(), 'Predicted': y_pred.flatten()})\n",
    "# df"
   ]
  },
  {
   "cell_type": "code",
   "execution_count": 35,
   "id": "6fe2517e",
   "metadata": {},
   "outputs": [
    {
     "name": "stdout",
     "output_type": "stream",
     "text": [
      "Mean Squared Error test ridge: 12.192075514566808\n",
      "Mean Squared Error train ridge: 5.490339513171415\n"
     ]
    }
   ],
   "source": [
    "print('Mean Squared Error test ridge:', metrics.mean_squared_error(y_test, y_pred))\n",
    "print('Mean Squared Error train ridge:', metrics.mean_squared_error(y_train, y_pred_train))"
   ]
  },
  {
   "cell_type": "code",
   "execution_count": 36,
   "id": "11b3fd1e",
   "metadata": {},
   "outputs": [],
   "source": [
    "params = {'n_estimators': 300, 'max_depth': 3, 'min_samples_split': 2, 'learning_rate': 0.17} \n",
    "regressor = GradientBoostingRegressor(**params).fit(X_train, y_train)"
   ]
  },
  {
   "cell_type": "code",
   "execution_count": 37,
   "id": "703b85eb",
   "metadata": {},
   "outputs": [],
   "source": [
    "y_pred = regressor.predict(X_test)\n",
    "y_pred_train = regressor.predict(X_train)"
   ]
  },
  {
   "cell_type": "code",
   "execution_count": 38,
   "id": "889c6663",
   "metadata": {},
   "outputs": [],
   "source": [
    "# df = pd.DataFrame({'Actual': y_test.values.flatten(), 'Predicted': y_pred.flatten()})\n",
    "# df"
   ]
  },
  {
   "cell_type": "code",
   "execution_count": 39,
   "id": "e7642da6",
   "metadata": {},
   "outputs": [
    {
     "name": "stdout",
     "output_type": "stream",
     "text": [
      "Mean Squared Error test gradient boost: 1.5288526763458055\n",
      "Mean Squared Error train gradient boost: 1.1575375320197759e-16\n"
     ]
    }
   ],
   "source": [
    "print('Mean Squared Error test gradient boost:', metrics.mean_squared_error(y_test, y_pred))\n",
    "print('Mean Squared Error train gradient boost:', metrics.mean_squared_error(y_train, y_pred_train))"
   ]
  },
  {
   "cell_type": "code",
   "execution_count": 40,
   "id": "3fc591e4",
   "metadata": {},
   "outputs": [],
   "source": [
    "from sklearn.linear_model import SGDRegressor\n",
    "regressor = SGDRegressor(penalty='l2', max_iter=1000, random_state=42).fit(X_train, y_train)"
   ]
  },
  {
   "cell_type": "code",
   "execution_count": 41,
   "id": "77786e68",
   "metadata": {},
   "outputs": [],
   "source": [
    "y_pred = regressor.predict(X_test)\n",
    "y_pred_train = regressor.predict(X_train)"
   ]
  },
  {
   "cell_type": "code",
   "execution_count": 42,
   "id": "6df9bb7a",
   "metadata": {},
   "outputs": [
    {
     "name": "stdout",
     "output_type": "stream",
     "text": [
      "Mean Squared Error test gradient boost: 4.8966824008825105\n",
      "Mean Squared Error train gradient boost: 5.91291532568307\n"
     ]
    }
   ],
   "source": [
    "print('Mean Squared Error test gradient boost:', metrics.mean_squared_error(y_test, y_pred))\n",
    "print('Mean Squared Error train gradient boost:', metrics.mean_squared_error(y_train, y_pred_train))"
   ]
  },
  {
   "cell_type": "code",
   "execution_count": 43,
   "id": "54dcf4a8",
   "metadata": {},
   "outputs": [
    {
     "name": "stdout",
     "output_type": "stream",
     "text": [
      "Mean Squared Error test gradient boost: 0.9884548671389314\n",
      "Mean Squared Error train gradient boost: 8.08593969744532\n"
     ]
    }
   ],
   "source": [
    "from sklearn import linear_model\n",
    "regressor = linear_model.BayesianRidge().fit(X_train, y_train)\n",
    "y_pred = regressor.predict(X_test)\n",
    "y_pred_train = regressor.predict(X_train)\n",
    "print('Mean Squared Error test gradient boost:', metrics.mean_squared_error(y_test, y_pred))\n",
    "print('Mean Squared Error train gradient boost:', metrics.mean_squared_error(y_train, y_pred_train))"
   ]
  },
  {
   "cell_type": "code",
   "execution_count": 44,
   "id": "fc524a6f",
   "metadata": {},
   "outputs": [
    {
     "name": "stdout",
     "output_type": "stream",
     "text": [
      "Mean Squared Error test gradient boost: 1.9811584142026744\n",
      "Mean Squared Error train gradient boost: 6.932786138298622\n"
     ]
    }
   ],
   "source": [
    "from sklearn import linear_model\n",
    "regressor = linear_model.ARDRegression().fit(X_train, y_train)\n",
    "y_pred = regressor.predict(X_test)\n",
    "y_pred_train = regressor.predict(X_train)\n",
    "print('Mean Squared Error test gradient boost:', metrics.mean_squared_error(y_test, y_pred))\n",
    "print('Mean Squared Error train gradient boost:', metrics.mean_squared_error(y_train, y_pred_train))"
   ]
  },
  {
   "cell_type": "code",
   "execution_count": 45,
   "id": "2edfe5cc",
   "metadata": {},
   "outputs": [
    {
     "name": "stdout",
     "output_type": "stream",
     "text": [
      "Mean Squared Error test: 209.61524335431452\n",
      "Mean Squared Error train: 1.5569783673888686e-18\n",
      "Mean Absolute Error test: 14.443964612879357\n",
      "Mean Absolute Error train: 1.2061886583875814e-09\n"
     ]
    }
   ],
   "source": [
    "from sklearn.gaussian_process import GaussianProcessRegressor\n",
    "regressor = GaussianProcessRegressor().fit(X_train, y_train)\n",
    "y_pred = regressor.predict(X_test)\n",
    "y_pred_train = regressor.predict(X_train)\n",
    "print('Mean Squared Error test:', metrics.mean_squared_error(y_test, y_pred))\n",
    "print('Mean Squared Error train:', metrics.mean_squared_error(y_train, y_pred_train))\n",
    "\n",
    "print('Mean Absolute Error test:', metrics.mean_absolute_error(y_test, y_pred))\n",
    "print('Mean Absolute Error train:', metrics.mean_absolute_error(y_train, y_pred_train))"
   ]
  },
  {
   "cell_type": "code",
   "execution_count": null,
   "id": "4d6e8832",
   "metadata": {},
   "outputs": [],
   "source": []
  }
 ],
 "metadata": {
  "kernelspec": {
   "display_name": "Python 3",
   "language": "python",
   "name": "python3"
  },
  "language_info": {
   "codemirror_mode": {
    "name": "ipython",
    "version": 3
   },
   "file_extension": ".py",
   "mimetype": "text/x-python",
   "name": "python",
   "nbconvert_exporter": "python",
   "pygments_lexer": "ipython3",
   "version": "3.8.10"
  }
 },
 "nbformat": 4,
 "nbformat_minor": 5
}
